{
 "cells": [
  {
   "cell_type": "code",
   "execution_count": 2,
   "metadata": {},
   "outputs": [],
   "source": [
    "import scipy.stats as ss\n",
    "import matplotlib.pyplot as plt\n",
    "import numpy as np"
   ]
  },
  {
   "cell_type": "markdown",
   "metadata": {},
   "source": [
    "# 1"
   ]
  },
  {
   "cell_type": "code",
   "execution_count": 3,
   "metadata": {},
   "outputs": [],
   "source": [
    "table = {(0, 0, 0): 0,\n",
    " (0, 0, 1): 0,\n",
    " (0, 0, 2): 0,\n",
    " (0, 0, 3): 0,\n",
    " (0, 0, 5): 0,\n",
    " (0, 0, 6): 2,\n",
    " (0, 0, 7): 0,\n",
    " (0, 1, 1): 0,\n",
    " (0, 1, 2): 0,\n",
    " (0, 1, 3): 0,\n",
    " (0, 1, 5): 0,\n",
    " (0, 1, 6): 2,\n",
    " (0, 1, 7): 0,\n",
    " (0, 2, 2): 0,\n",
    " (0, 2, 3): 0,\n",
    " (0, 2, 5): 0,\n",
    " (0, 2, 6): 2,\n",
    " (0, 2, 7): 0,\n",
    " (0, 3, 3): 0,\n",
    " (0, 3, 5): 0,\n",
    " (0, 3, 6): 2,\n",
    " (0, 3, 7): 0,\n",
    " (0, 5, 5): 0,\n",
    " (0, 5, 6): 10,\n",
    " (0, 5, 7): 0,\n",
    " (0, 6, 6): 5,\n",
    " (0, 6, 7): 2,\n",
    " (0, 7, 7): 0,\n",
    " (1, 1, 1): 10,\n",
    " (1, 1, 2): 5,\n",
    " (1, 1, 3): 5,\n",
    " (1, 1, 5): 20,\n",
    " (1, 1, 6): 2,\n",
    " (1, 1, 7): 0,\n",
    " (1, 2, 2): 5,\n",
    " (1, 2, 3): 5,\n",
    " (1, 2, 5): 10,\n",
    " (1, 2, 6): 2,\n",
    " (1, 2, 7): 0,\n",
    " (1, 3, 3): 5,\n",
    " (1, 3, 5): 10,\n",
    " (1, 3, 6): 2,\n",
    " (1, 3, 7): 0,\n",
    " (1, 5, 5): 40,\n",
    " (1, 5, 6): 10,\n",
    " (1, 5, 7): 0,\n",
    " (1, 6, 6): 5,\n",
    " (1, 6, 7): 2,\n",
    " (1, 7, 7): 0,\n",
    " (2, 2, 2): 25,\n",
    " (2, 2, 3): 5,\n",
    " (2, 2, 5): 50,\n",
    " (2, 2, 6): 2,\n",
    " (2, 2, 7): 0,\n",
    " (2, 3, 3): 5,\n",
    " (2, 3, 5): 10,\n",
    " (2, 3, 6): 2,\n",
    " (2, 3, 7): 0,\n",
    " (2, 5, 5): 100,\n",
    " (2, 5, 6): 10,\n",
    " (2, 5, 7): 0,\n",
    " (2, 6, 6): 5,\n",
    " (2, 6, 7): 2,\n",
    " (2, 7, 7): 0,\n",
    " (3, 3, 3): 40,\n",
    " (3, 3, 5): 80,\n",
    " (3, 3, 6): 2,\n",
    " (3, 3, 7): 0,\n",
    " (3, 5, 5): 160,\n",
    " (3, 5, 6): 10,\n",
    " (3, 5, 7): 0,\n",
    " (3, 6, 6): 5,\n",
    " (3, 6, 7): 2,\n",
    " (3, 7, 7): 0,\n",
    " (5, 5, 5): 1000,\n",
    " (5, 5, 6): 40,\n",
    " (5, 5, 7): 320,\n",
    " (5, 6, 6): 20,\n",
    " (5, 6, 7): 10,\n",
    " (5, 7, 7): 160,\n",
    " (6, 6, 6): 10,\n",
    " (6, 6, 7): 5,\n",
    " (6, 7, 7): 2,\n",
    " (7, 7, 7): 80}"
   ]
  },
  {
   "cell_type": "code",
   "execution_count": 4,
   "metadata": {},
   "outputs": [
    {
     "name": "stdout",
     "output_type": "stream",
     "text": [
      "0.808\n",
      "0.9759\n",
      "0.85984\n",
      "0.862245\n"
     ]
    }
   ],
   "source": [
    "def generate(n):\n",
    "    return ss.rv_discrete(values=([0, 1, 2, 3, 5, 6, 7], [1/2, 1/4, 1/8, 1/16, 1/64, 1/64, 1/32])).rvs(size=n)\n",
    "\n",
    "# cauchy(a, scale=x) = 1/(pi * x * (1 + a^2/x^2)\n",
    "\n",
    "for i in range(3,7):\n",
    "    res = generate((10 ** i, 3))\n",
    "\n",
    "\n",
    "    sample = np.array([table[tuple(sorted(r))] for r in res])\n",
    "\n",
    "    print(np.mean(sample))"
   ]
  },
  {
   "cell_type": "markdown",
   "metadata": {},
   "source": [
    "# 2"
   ]
  },
  {
   "cell_type": "code",
   "execution_count": 5,
   "metadata": {},
   "outputs": [
    {
     "name": "stdout",
     "output_type": "stream",
     "text": [
      "0.856719970703125\n"
     ]
    }
   ],
   "source": [
    "values = [0, 1, 2, 3, 5, 6, 7]\n",
    "probs = [1/2, 1/4, 1/8, 1/16, 1/64, 1/64, 1/32]\n",
    "distribution = dict(zip(values, probs))\n",
    "expectation = 0\n",
    "for i in values:\n",
    "    for j in values:\n",
    "        for k in values:\n",
    "            expectation += table[tuple(sorted([i, j, k]))] * distribution[i] * distribution[j] * distribution[k]\n",
    "print(expectation)"
   ]
  },
  {
   "cell_type": "code",
   "execution_count": 6,
   "metadata": {},
   "outputs": [],
   "source": [
    "samples = generate((10000, 138, 3))\n",
    "sample = np.array([[table[tuple(sorted(r))] for r in i] for i in samples])\n",
    "\n",
    "sample = sample.mean(axis=1)"
   ]
  },
  {
   "cell_type": "code",
   "execution_count": 7,
   "metadata": {},
   "outputs": [
    {
     "data": {
      "text/plain": [
       "0.34736068780785545"
      ]
     },
     "execution_count": 7,
     "metadata": {},
     "output_type": "execute_result"
    }
   ],
   "source": [
    "((sample - expectation) ** 2).mean() ** 0.5"
   ]
  },
  {
   "cell_type": "markdown",
   "metadata": {},
   "source": [
    "# 3"
   ]
  },
  {
   "cell_type": "code",
   "execution_count": 15,
   "metadata": {},
   "outputs": [],
   "source": [
    "n = 10000\n",
    "samples = generate((n, 138 * 3))\n",
    "\n",
    "pp = np.array([np.bincount(sample) / 414 for sample in samples])\n",
    "pred_probs = np.delete(pp, 4, 1)\n",
    "pred_expect = []"
   ]
  },
  {
   "cell_type": "code",
   "execution_count": 16,
   "metadata": {},
   "outputs": [],
   "source": [
    "for i in range(n):\n",
    "    pred_dist = dict(zip(values, pred_probs[i]))\n",
    "    pe = 0\n",
    "    for i in values:\n",
    "        for j in values:\n",
    "            for k in values:\n",
    "                pe += table[tuple(sorted([i, j, k]))] * pred_dist[i] * pred_dist[j] * pred_dist[k]\n",
    "    pred_expect.append(pe)\n",
    "\n",
    "pred_expect = np.array(pred_expect)"
   ]
  },
  {
   "cell_type": "code",
   "execution_count": 17,
   "metadata": {},
   "outputs": [
    {
     "data": {
      "text/plain": [
       "0.14688036415598352"
      ]
     },
     "execution_count": 17,
     "metadata": {},
     "output_type": "execute_result"
    }
   ],
   "source": [
    "((pred_expect - expectation) ** 2).mean() ** 0.5"
   ]
  },
  {
   "cell_type": "markdown",
   "metadata": {},
   "source": [
    "# 4\n"
   ]
  },
  {
   "cell_type": "code",
   "execution_count": 21,
   "metadata": {},
   "outputs": [],
   "source": [
    "n = 100000\n",
    "samples = generate((n, 138, 3))\n",
    "sample = np.array([[table[tuple(sorted(r))] for r in i] for i in samples])\n",
    "\n",
    "std = sample.std(axis=1)\n",
    "sample = sample.mean(axis=1)"
   ]
  },
  {
   "cell_type": "code",
   "execution_count": 23,
   "metadata": {},
   "outputs": [
    {
     "name": "stdout",
     "output_type": "stream",
     "text": [
      "0.00126\n",
      "0.13003\n"
     ]
    }
   ],
   "source": [
    "print(np.count_nonzero(sample - 2*std / (138 ** 0.5) - expectation > 0) / n)\n",
    "print(np.count_nonzero(sample + 2*std / (138 ** 0.5) - expectation < 0) / n)"
   ]
  },
  {
   "cell_type": "markdown",
   "metadata": {},
   "source": [
    "# 5"
   ]
  },
  {
   "cell_type": "markdown",
   "metadata": {},
   "source": [
    "$\\phi(X) = \\theta$\n",
    "\n",
    "$\\phi^*(X_{[n]}) = X_{(n)} = max\\{X_{[n]}\\}$\n",
    "\n",
    "$\\phi^*(\\lambda X_{[n]}) = \\lambda X_{(n)} \\Rightarrow$ свойства оценки не зависят от значения $\\theta$. Считаем $\\theta = 1$"
   ]
  },
  {
   "cell_type": "markdown",
   "metadata": {},
   "source": [
    "1. Смещение, асимптотическая несмещённость  \n",
    "$b(\\phi^*) = \\mathbb{E} \\phi^*(X_{[n]}) - \\phi(X) = \\mathbb{E} X_{(n)} - \\theta = -\\frac{1}{n+1}$  \n",
    "Так как $-\\frac{1}{n+1} \\neq 0$, оценка является **смещённой**, но т.к. $-\\frac{1}{n+1} \\underset{n \\rightarrow \\infty}\\longrightarrow 0$, оценка будет **асимптотически несмещённой**."
   ]
  },
  {
   "cell_type": "markdown",
   "metadata": {},
   "source": [
    "2. Дисперсия, состоятельность  \n",
    "$\\mathbb{D}\\phi^*(X_{[n]}) = \\frac{n}{n+2}-(\\frac{n}{n+1})^2 = \\frac{n}{(n+1)^2(n+2)}$  \n",
    "Проверим состоятельность оценки, воспользовавшись неравенством Чебышёва:  \n",
    "$\\varepsilon > 0;\\ \\mathbb{P}(|\\phi^*(X_{[n]})- \\phi| > \\varepsilon) \\leq \\frac{\\mathbb{D}\\phi^*(X_{[n]})}{\\varepsilon^2} \\underset{n \\rightarrow \\infty}\\longrightarrow 0$  \n",
    "Таким образом, оценка **состоятельна**.\n"
   ]
  },
  {
   "cell_type": "markdown",
   "metadata": {},
   "source": [
    "3. Несмещённая оценка, асимптотическая нормальность  \n",
    "Возьмём оценку $\\phi_1^*(X_{[n]}) = 2\\overline X$:  \n",
    "$b(\\phi_1^*) = 2\\mathbb{E}(X_{[n]}) - \\theta = 2 \\cdot \\frac{1}{2}\\theta - \\theta = 0$  \n",
    "$\\mathbb{D}\\phi_1^*(X_{[n]}) = \\mathbb{D}2X_{[n]} = 4\\cdot \\frac{\\theta^2}{12} = \\frac{\\theta^2}{3} = \\sigma^2$  \n",
    "Проверим асимптотическую нормальность: $\\sqrt{n} (2\\overline X - \\theta) = \\frac{\\sum_{i=1}^{n}2X_{i} - n\\theta}{\\sqrt{n}}$  \n",
    "Центральная предельная теорема: $\\frac{\\sum_{i=1}^{n}2X_{i} - n \\cdot 2\\mathbb{E}(X_{[n]})}{\\sqrt{n}} \\Rightarrow N(0, \\sigma^2)$  \n",
    "Таким образом, $\\sqrt{n} (2\\overline X - \\theta) \\Rightarrow N(0, \\frac{\\theta^2}{3})$, и оценка **асимптотически нормальна** с коэффициентом $\\sigma^2(\\theta) = \\frac{\\theta^2}{3}$"
   ]
  }
 ],
 "metadata": {
  "kernelspec": {
   "display_name": "Python 3.10.4 64-bit",
   "language": "python",
   "name": "python3"
  },
  "language_info": {
   "codemirror_mode": {
    "name": "ipython",
    "version": 3
   },
   "file_extension": ".py",
   "mimetype": "text/x-python",
   "name": "python",
   "nbconvert_exporter": "python",
   "pygments_lexer": "ipython3",
   "version": "3.10.4"
  },
  "orig_nbformat": 4,
  "vscode": {
   "interpreter": {
    "hash": "916dbcbb3f70747c44a77c7bcd40155683ae19c65e1c03b4aa3499c5328201f1"
   }
  }
 },
 "nbformat": 4,
 "nbformat_minor": 2
}
