{
 "cells": [
  {
   "cell_type": "code",
   "execution_count": 2,
   "metadata": {},
   "outputs": [],
   "source": [
    "import scipy.stats as ss\n",
    "import matplotlib.pyplot as plt\n",
    "import numpy as np"
   ]
  },
  {
   "cell_type": "markdown",
   "metadata": {},
   "source": [
    "# 1"
   ]
  },
  {
   "cell_type": "code",
   "execution_count": 165,
   "metadata": {},
   "outputs": [
    {
     "name": "stdout",
     "output_type": "stream",
     "text": [
      "9.001953788766329\n"
     ]
    }
   ],
   "source": [
    "x=9\n",
    "def generate(n):\n",
    "    return ss.cauchy(scale=x).rvs(size=n)\n",
    "\n",
    "# cauchy(a, scale=x) = 1/(pi * x * (1 + a^2/x^2)\n",
    "\n",
    "sample = generate((1000, 10000))\n",
    "\n",
    "res = ss.gmean(abs(sample), axis=1)\n",
    "\n",
    "print(res.mean())"
   ]
  },
  {
   "cell_type": "markdown",
   "metadata": {},
   "source": [
    "# 2"
   ]
  },
  {
   "cell_type": "code",
   "execution_count": 129,
   "metadata": {},
   "outputs": [
    {
     "name": "stdout",
     "output_type": "stream",
     "text": [
      "0.319780590154308 0.37402994816163604\n"
     ]
    }
   ],
   "source": [
    "mu = 0\n",
    "samples = ss.norm(loc=mu, scale=1).rvs(size=(10000,10))\n",
    "\n",
    "phi1 = samples.mean(axis=1)\n",
    "phi2 = np.median(samples, axis=1)\n",
    "\n",
    "rmse1 = ((phi1 - mu) ** 2).mean() ** 0.5\n",
    "rmse2 = ((phi2 - mu) ** 2).mean() ** 0.5\n",
    "print(rmse1, rmse2)\n"
   ]
  },
  {
   "cell_type": "markdown",
   "metadata": {},
   "source": [
    "# 3"
   ]
  },
  {
   "cell_type": "code",
   "execution_count": 4,
   "metadata": {},
   "outputs": [
    {
     "name": "stdout",
     "output_type": "stream",
     "text": [
      "0.09325\n",
      "0.0927505\n",
      "0.0928827\n"
     ]
    }
   ],
   "source": [
    "die = ss.rv_discrete(name=\"die\", values=([1, 2, 3, 4, 5, 6], [1/6]*6))\n",
    "\n",
    "def montecarlo(size):\n",
    "    sample = die.rvs(size=(6, size))\n",
    "    return np.count_nonzero(np.sum(sample, axis=0) == 21) / size\n",
    "\n",
    "print(montecarlo(200000))\n",
    "print(montecarlo(2000000))\n",
    "print(montecarlo(20000000))"
   ]
  },
  {
   "cell_type": "markdown",
   "metadata": {},
   "source": [
    "### шаблон `generate(n)` для задач 4-5"
   ]
  },
  {
   "cell_type": "code",
   "execution_count": 184,
   "metadata": {},
   "outputs": [
    {
     "name": "stdout",
     "output_type": "stream",
     "text": [
      "[2 0 2 0 2 0 0 0 0 0 1 1 1 0 0 0 0 1 0 0 2 0 1 2 0 1 2 0 1 2 1 1 2 0 0 0 0\n",
      " 0 1 0 2 1 1 1 0 1 0 0 0 0 2 1 2 1 0 0 0 0 1 1 0 1 1 0 0 1 0 0 0 1 1 0 0 0\n",
      " 0 1 0 0 2 1 1 0 1 1 1 2 0 1 1 2 0 0 0 1 0 0 0 1 1 1]\n"
     ]
    }
   ],
   "source": [
    "# my pseudo generate(n)\n",
    "\n",
    "rain_coeff = 0.1\n",
    "rain = ss.rv_discrete(name=\"rain\", values=([0, 1, 2], [.1, .4, .5]))\n",
    "sun = ss.rv_discrete(name=\"sun\", values=([0, 1, 2], [.6, .3, .1]))\n",
    "\n",
    "def generate(n: int) -> np.array:\n",
    "    weather_cycle = ss.bernoulli(rain_coeff)\n",
    "    w_sample = weather_cycle.rvs(size=n)\n",
    "    return rain.rvs(size=n) * w_sample + sun.rvs(size=n) * (1-w_sample)\n",
    "\n",
    "print(generate(100))"
   ]
  },
  {
   "cell_type": "markdown",
   "metadata": {},
   "source": [
    "# 4\n"
   ]
  },
  {
   "cell_type": "code",
   "execution_count": 185,
   "metadata": {},
   "outputs": [
    {
     "name": "stdout",
     "output_type": "stream",
     "text": [
      "0.09810000000000008\n"
     ]
    }
   ],
   "source": [
    "# Goal is to find rain_coeff\n",
    "\n",
    "size = 10000\n",
    "samples = generate(size)\n",
    "walking = np.count_nonzero(samples == 0) / size\n",
    "shopping = np.count_nonzero(samples == 1) / size\n",
    "cleaning = np.count_nonzero(samples == 2) / size\n",
    "\n",
    "if (walking + shopping + cleaning - 1 > 0.0001):\n",
    "    # if we are here, laws of maths don't work...\n",
    "    print(\"It was at this moment Jason knew he fucked up\")\n",
    "\n",
    "res = 1 - np.mean([abs(walking - .1)/(.6 - .1), 1 - abs(shopping - .3)/(.4 - .3), 1 - abs(cleaning - .1)/(.5 - .1)])\n",
    "print(res)\n",
    "# ...gods this is awful programming here"
   ]
  },
  {
   "cell_type": "markdown",
   "metadata": {},
   "source": [
    "# 5"
   ]
  },
  {
   "cell_type": "code",
   "execution_count": null,
   "metadata": {},
   "outputs": [],
   "source": []
  }
 ],
 "metadata": {
  "kernelspec": {
   "display_name": "Python 3.10.4 64-bit",
   "language": "python",
   "name": "python3"
  },
  "language_info": {
   "codemirror_mode": {
    "name": "ipython",
    "version": 3
   },
   "file_extension": ".py",
   "mimetype": "text/x-python",
   "name": "python",
   "nbconvert_exporter": "python",
   "pygments_lexer": "ipython3",
   "version": "3.10.4"
  },
  "orig_nbformat": 4,
  "vscode": {
   "interpreter": {
    "hash": "916dbcbb3f70747c44a77c7bcd40155683ae19c65e1c03b4aa3499c5328201f1"
   }
  }
 },
 "nbformat": 4,
 "nbformat_minor": 2
}
